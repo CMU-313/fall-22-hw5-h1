{
 "cells": [
  {
   "cell_type": "code",
   "execution_count": null,
   "id": "31bde10e",
   "metadata": {},
   "outputs": [],
   "source": []
  },
  {
   "cell_type": "code",
   "execution_count": null,
   "id": "c699e85e",
   "metadata": {},
   "outputs": [],
   "source": [
    "import pandas as pd\n",
    "import numpy as np\n",
    "df = pd.read_csv('data/student-mat.csv', sep=';')"
   ]
  },
  {
   "cell_type": "code",
   "execution_count": null,
   "id": "a6ca176e",
   "metadata": {},
   "outputs": [],
   "source": [
    "df.describe()"
   ]
  },
  {
   "cell_type": "code",
   "execution_count": null,
   "id": "682bf6c6",
   "metadata": {},
   "outputs": [],
   "source": [
    "ORIGINAL MODEL"
   ]
  },
  {
   "cell_type": "code",
   "execution_count": null,
   "id": "672323e6",
   "metadata": {},
   "outputs": [],
   "source": [
    "include = ['G1', 'G2', 'G3', 'studytime', 'Dalc']\n",
    "df.drop(columns=df.columns.difference(include), inplace=True)  # only using 3 features"
   ]
  },
  {
   "cell_type": "code",
   "execution_count": null,
   "id": "85d7eed2",
   "metadata": {},
   "outputs": [],
   "source": [
    "The goal is to predict the quality of the student. We will build a predictor based on 'G1', 'G2', 'G3', 'studytime', and 'Dalc' Becasue we are trying to find quality students."
   ]
  },
  {
   "cell_type": "code",
   "execution_count": null,
   "id": "61ceda3b",
   "metadata": {},
   "outputs": [],
   "source": [
    "#df['qual_student'] = np.where((df['G3']>=15) & (df['G2'] >= 15) & (df['G1'] >= 15) & (df['studytime'] >= 3) & (df['activities'] == 'yes') & (df['absences'] <= 5), 1, 0)\n",
    "\n",
    "#making standards lower so there will be more \"qual_student\"s\n",
    "df['qual_student'] = np.where((df['G3']>=15), 1, 0)"
   ]
  },
  {
   "cell_type": "code",
   "execution_count": null,
   "id": "6e67edd1",
   "metadata": {},
   "outputs": [],
   "source": [
    "df.describe()\n",
    "display(df)"
   ]
  },
  {
   "cell_type": "code",
   "execution_count": null,
   "id": "54c356ab",
   "metadata": {},
   "outputs": [],
   "source": [
    "# Drop all the columns we care about\n",
    "\n",
    "include = ['G1', 'G2','Dalc', 'studytime', 'qual_student']\n",
    "df.drop(columns=df.columns.difference(include), inplace=True) "
   ]
  },
  {
   "cell_type": "code",
   "execution_count": null,
   "id": "04818605",
   "metadata": {},
   "outputs": [],
   "source": [
    "# Import scikit-learn and build a random forest classifer\n",
    "\n",
    "from sklearn.ensemble import RandomForestClassifier as rf\n",
    "import sklearn\n",
    "x = df[df.columns.difference(['qual_student'])]\n",
    "y = df['qual_student']\n",
    "x = pd.get_dummies(x)\n",
    "clf = rf(n_estimators = 1000)\n",
    "clf.fit(x, y)"
   ]
  },
  {
   "cell_type": "code",
   "execution_count": null,
   "id": "8428435c",
   "metadata": {},
   "outputs": [],
   "source": [
    "display(x)"
   ]
  },
  {
   "cell_type": "code",
   "execution_count": null,
   "id": "41554859",
   "metadata": {},
   "outputs": [],
   "source": [
    "pred = clf.predict(x)\n",
    "sklearn.metrics.f1_score(y, pred, average='binary')"
   ]
  },
  {
   "cell_type": "code",
   "execution_count": null,
   "id": "1f92a2f1",
   "metadata": {},
   "outputs": [],
   "source": []
  },
  {
   "cell_type": "code",
   "execution_count": null,
   "id": "332f67fb",
   "metadata": {},
   "outputs": [],
   "source": []
  }
 ],
 "metadata": {
  "kernelspec": {
   "display_name": "Python 3 (ipykernel)",
   "language": "python",
   "name": "python3"
  },
  "language_info": {
   "codemirror_mode": {
    "name": "ipython",
    "version": 3
   },
   "file_extension": ".py",
   "mimetype": "text/x-python",
   "name": "python",
   "nbconvert_exporter": "python",
   "pygments_lexer": "ipython3",
   "version": "3.8.10"
  }
 },
 "nbformat": 4,
 "nbformat_minor": 5
}
